{
 "cells": [
  {
   "cell_type": "markdown",
   "id": "e07fef8c-2f7e-47ad-abd8-ff2580816b94",
   "metadata": {},
   "source": [
    "# Data Exploration / Testing Algorithms\n",
    "\n",
    "Dataset: https://snap.stanford.edu/data/soc-RedditHyperlinks.html\n",
    "\n",
    "Political subreddits list: https://github.com/valentinhofmann/politosphere/blob/main/data/subreddits.txt\n",
    "\n",
    "\n",
    "## Dataset information\n",
    "- **SOURCE_SUBREDDIT**: the subreddit where the link originates\n",
    "- **TARGET_SUBREDDIT**: the subreddit where the link ends\n",
    "- **POST_ID**: the post in the source subreddit that starts the link\n",
    "- **TIMESTAMP**: time time of the post\n",
    "- **POST_LABEL**: label indicating if the source post is explicitly negative towards the target post. The value is -1 if the source is negative towards the target, and 1 if it is neutral or positive. The label is created using crowd-sourcing and training a text based classifier, and is better than simple sentiment analysis of the posts. Please see the reference paper for details.\n",
    "- **POST_PROPERTIES**: a vector representing the text properties of the source post, listed as a list of comma separated numbers. The vector elements are the following:\n",
    "1. Number of characters\n",
    "2. Number of characters without counting white space\n",
    "3. Fraction of alphabetical characters\n",
    "4. Fraction of digits\n",
    "5. Fraction of uppercase characters\n",
    "6. Fraction of white spaces\n",
    "7. Fraction of special characters, such as comma, exclamation mark, etc.\n",
    "8. Number of words\n",
    "9. Number of unique works\n",
    "10. Number of long words (at least 6 characters)\n",
    "11. Average word length\n",
    "12. Number of unique stopwords\n",
    "13. Fraction of stopwords\n",
    "14. Number of sentences\n",
    "15. Number of long sentences (at least 10 words)\n",
    "16. Average number of characters per sentence\n",
    "17. Average number of words per sentence\n",
    "18. Automated readability index\n",
    "19. Positive sentiment calculated by VADER\n",
    "20. Negative sentiment calculated by VADER\n",
    "21. Compound sentiment calculated by VADER\n",
    "\n",
    "22-86. LIWC Variables"
   ]
  },
  {
   "cell_type": "code",
   "execution_count": 11,
   "id": "cccec7f8-6a95-4d7d-85aa-8c7d720fa504",
   "metadata": {},
   "outputs": [],
   "source": [
    "import pandas as pd\n",
    "import numpy as np\n",
    "import networkx as nx\n",
    "import community.community_louvain as community_louvain\n",
    "import matplotlib.pyplot as plt\n",
    "import seaborn as sns"
   ]
  },
  {
   "cell_type": "code",
   "execution_count": 12,
   "id": "8110ba7d",
   "metadata": {},
   "outputs": [],
   "source": [
    "df = pd.read_csv('data/filtered_network.csv')\n",
    "clustering_score = pd.read_csv('data/score_plus_clusters.csv')"
   ]
  },
  {
   "cell_type": "code",
   "execution_count": 13,
   "id": "6974d24b-d8e5-4605-a968-6c7a07b6b6c1",
   "metadata": {},
   "outputs": [],
   "source": [
    "source = \"SOURCE_SUBREDDIT\"\n",
    "target = \"TARGET_SUBREDDIT\"\n",
    "edgelist = df.loc[:, [source, target]].copy()\n",
    "edgelist_df = edgelist.drop_duplicates().copy()\n",
    "edgelist_df[\"count\"] = edgelist.groupby([source, target]).transform(\"size\")\n",
    "# create graph\n",
    "G = nx.from_pandas_edgelist(edgelist_df, source=source, target=target, create_using=nx.DiGraph(),edge_attr=\"count\")\n",
    "# convert to adjacency matrix\n",
    "adj_matrix = nx.to_pandas_adjacency(G, weight=\"count\")"
   ]
  },
  {
   "cell_type": "code",
   "execution_count": 14,
   "id": "d4ab402a-e865-4ba9-8790-0ab25ef3cb9e",
   "metadata": {},
   "outputs": [],
   "source": [
    "\n",
    "# add link sentiments\n",
    "df_counts = df.groupby([source, target])['LINK_SENTIMENT'].value_counts().reset_index()\n",
    "links = df_counts.groupby(['SOURCE_SUBREDDIT', 'TARGET_SUBREDDIT', 'LINK_SENTIMENT'])['count'].sum().unstack(fill_value=0).reset_index().rename(columns={1: 'POSITIVE', -1: 'NEGATIVE'})\n",
    "edgelist_df = edgelist_df.merge(links, how='inner', on=[source,target])\n",
    "edgelist_df[\"LINK_SENTIMENT\"] = edgelist_df[\"POSITIVE\"] - edgelist_df[\"NEGATIVE\"]\n",
    "G_directed = nx.from_pandas_edgelist(edgelist_df, \n",
    "                                     source=source, target=target, \n",
    "                                     create_using=nx.DiGraph(),\n",
    "                                     edge_attr=[\"count\", \"POSITIVE\", \"NEGATIVE\", \"LINK_SENTIMENT\"])\n",
    "G_undirected = G_directed.to_undirected()"
   ]
  },
  {
   "cell_type": "code",
   "execution_count": 15,
   "id": "ec945d41-9540-412c-bc64-267a9926fd39",
   "metadata": {},
   "outputs": [],
   "source": [
    "def best_louvain_partition(G):\n",
    "\n",
    "    best_modularity = -1\n",
    "    best_partition = None\n",
    "    for i in range(50):\n",
    "        partition = community_louvain.best_partition(G, weight='count', random_state=i)\n",
    "        modularity_value = community_louvain.modularity(partition, G)\n",
    "        if modularity_value > best_modularity:\n",
    "            best_modularity = modularity_value\n",
    "            best_partition = partition\n",
    "    return best_partition\n",
    "\n",
    "partition = best_louvain_partition(G_undirected) \n",
    "\n",
    "nx.set_node_attributes(G_undirected, partition, 'community')\n",
    "nx.set_node_attributes(G_directed, partition, 'community')\n",
    "\n",
    "# transform to list of community sets\n",
    "partition_df = pd.DataFrame({'subreddit': partition.keys(), 'community':partition.values()})\n",
    "communities = partition_df.groupby(by='community').agg(set)['subreddit'].tolist()\n",
    "\n",
    "# Select the top three nodes with the highest degree in each community for labeling\n",
    "community_labels = {}\n",
    "for community in set(partition.values()):\n",
    "    community_nodes = [node for node in partition if partition[node] == community]\n",
    "    \n",
    "    top_nodes = sorted(community_nodes, key=lambda node: G_undirected.degree(node), reverse=True)[:3]\n",
    "\n",
    "    community_labels[community] = top_nodes\n",
    "\n",
    "# Add communities to dataframe\n",
    "df[\"SOURCE_COMMUNITY\"] = df['SOURCE_SUBREDDIT'].map(partition)\n",
    "df[\"TARGET_COMMUNITY\"] = df['TARGET_SUBREDDIT'].map(partition)"
   ]
  },
  {
   "cell_type": "code",
   "execution_count": 16,
   "id": "992c6c0e",
   "metadata": {},
   "outputs": [
    {
     "name": "stdout",
     "output_type": "stream",
     "text": [
      "Community 0: ['libertarian', 'conservative', 'enoughlibertarianspam', 'liberal', 'libertariandebates', 'new_right', 'progun', 'climateskeptics', 'askaconservative', 'republican', 'prolife', 'prochoice', 'whiterights', 'shitpoliticssays', 'shitrconservativesays', 'paleoconservative', 'gunpolitics', 'randpaul', 'conservatives_r_us', 'conservativemeta', 'austrian_economics', 'actualconspiracies', 'libertarianmeme', 'conservatives', 'nevertrump', 'newjerseylibertarians', 'demsocialist', 'geolibertarianism', 'libertarianpartyohio', 'libertarianpartyusa', 'conservativesonly', 'thedavidpakmanshow', 'acteuropa', 'antiwar', 'conservativelounge', 'daverubin', 'theredpillright', 'georgism']\n",
      "Number of subreddits: 38\n",
      "\n",
      "Community 1: ['communism101', 'communism', 'mensrightsmeta', 'mensrights', 'socialism', 'law', 'socialistprogrammers', 'alltheleft', 'againstmensrights', 'progressive', 'canadapolitics', 'feminismformen', 'shittankiessay', 'shitliberalssay', 'socialists', 'leftcommunism', 'socialistra', 'scotus', 'chomsky', 'justiceporn', 'politicalfactchecking', 'socialistmusic', 'trump16', 'anarchy', 'gulag', 'civpolitics', 'canadapolitic', 'ndp', 'atheismplus', 'obama', 'youngsocialistunited', 'fullstalinism', 'asklibertarians', 'leftypolitics', 'socialjusticeinaction', 'distributism', 'samharris', 'catholicpolitics', 'killthosewhodisagree', 'altright', 'shitleftistssay', 'militant', 'mormonpolitics', 'impeach_trump', 'againstsocialjustice', 'onguardforthee', 'socialjustice101', 'globalistshills']\n",
      "Number of subreddits: 48\n",
      "\n",
      "Community 2: ['politicaldiscussion', 'postnationalist', 'agitation', 'worldpolitics', 'geopolitics', 'syriancivilwar', 'futuristparty', 'restorethefourth', 'ask_politics', 'politicalphilosophy', 'neutralpolitics', 'worldevents', 'foreignpolicyanalysis', 'moderatepolitics', 'shitguncontrollerssay', 'kasichforpresident', 'rojava', 'iranpolitics', 'politicalscience', 'explainmydownvotes', 'pure_trump', 'uspolitics', 'indianpolitics', 'unfilter', 'politicalopinions', 'abetterworldnews', 'foreignpolicy', 'communists', 'terrorism', 'holocaust']\n",
      "Number of subreddits: 30\n",
      "\n",
      "Community 3: ['politics', 'economy', 'politic', 'altnewz', 'badeconomics', 'metanarchism', 'politicalmoderation', 'badpolitics', 'democrats', 'ncpolitics', 'censorship', 'anarchocommunism', 'occupywallstreet', 'enoughsandersspam', 'inthenews', 'socialanarchism', 'potuselection2016', '2016_elections', 'trueprogressive', 'hillaryclinton', 'media_criticism', 'politicalhumor', 'asktrumpsupporters', 'donaldtrump', 'jillstein', 'enoughtrumpspam', 'mr_trump', 'pdx4trump', 'askhillarysupporters', 'donaldtrump2016', 'libertarians', 'political_revolution', 'uncensorednews', 'stillsandersforpres', 'enough_sanders_spam', 'politicalrevolutionca', 'political_discussion', 'aprogressiveparty', 'electionreform', 'politicalrevolutionfl', '2016elections', 'slatestarcodex', 'neutralnews', 'the_meltdown', 'politics1', 'idontlikerpolitics', 'calexit', 'thenewcoldwar', 'antitrumpalliance', 'justiceserved', 'trumpforprison', 'justicedemocrats', 'marchagainsttrump', 'trumpnicknames', 'esist', 'neoliberal']\n",
      "Number of subreddits: 56\n",
      "\n",
      "Community 5: ['ukipparty', 'ukpolitics', 'gbrpolitics', 'scottishpolitics', 'britishpolitics', 'badukpolitics', 'outcampaign', 'europes', 'europeans', 'incampaign', 'europeannationalism', 'brexit']\n",
      "Number of subreddits: 12\n",
      "\n",
      "Community 4: ['sandersforpresident', 'nevadaforsanders', 'wvforsanders', 'illinois4sanders', 'labor', 'californiaforsanders', 'minnesota4sanders', 'delaware4sanders', 'tennesseeforsanders', 'newjerseyforsanders', 'codersforsanders', 'texasforsanders', 'iowaforsanders', 'virginiaforsanders', 'washingtonforsanders', 'oregonforsanders', 'utah4sanders', 'oklahomaforsanders', 'michigan4sanders', 'wisconsin4sanders', 'arizonaforsanders', 'kansas4sanders', 'nebraska4sanders', 'indianaforsanders', 'northcarolina4sanders', 'alabamaforsanders', 'kentuckyforsanders', 'arkansasforsanders', 'newyorkforsanders', 'ohioforsanders', 'losangelesforsanders', 'maryland4sanders', 'paforsanders', 'alaskaforsanders', 'expats4sanders', 'dc4sanders', 'missouri4sanders', 'berniesanderssucks', 'socialistsforsanders', 'colorado4sanders', 'newengland4sanders', 'floridaforsanders', 'georgia4sanders', 'hawaiiforsanders', 'idaho4sanders', 'louisianaforsanders', 'mississippiforsanders', 'newmexicoforsanders', 'northdakota4sanders', 'southcarolina4sanders', 'wyomingforsanders', 'studentsforsanders', 'republicansforsanders', 'ieforsanders', 'sandiegoforsanders', 'kossacks_for_sanders', 'sandersmedia', 'electionfraud', 'ourpresident', 'bernie_sanders']\n",
      "Number of subreddits: 60\n",
      "\n"
     ]
    }
   ],
   "source": [
    "from collections import defaultdict\n",
    "\n",
    "# Create a dictionary to store nodes for each community\n",
    "communities = defaultdict(list)\n",
    "\n",
    "# Populate the dictionary\n",
    "for node, community in partition.items():\n",
    "    communities[community].append(node)\n",
    "\n",
    "# Now, `communities` contains a list of nodes for each community\n",
    "for community, nodes in communities.items():\n",
    "    print(f\"Community {community}: {nodes}\")\n",
    "    print(f\"Number of subreddits: {len(nodes)}\\n\")  \n"
   ]
  },
  {
   "cell_type": "code",
   "execution_count": 17,
   "id": "187884fc",
   "metadata": {},
   "outputs": [],
   "source": [
    "df['Louvain_Community_Source'] = df['SOURCE_SUBREDDIT'].map(partition)\n",
    "df['Louvain_Community_Target'] = df['TARGET_SUBREDDIT'].map(partition)"
   ]
  },
  {
   "cell_type": "code",
   "execution_count": 18,
   "id": "a47988be",
   "metadata": {},
   "outputs": [],
   "source": [
    "# Prepare a mapping of subreddits to Louvain communities\n",
    "louvain_community_mapping = pd.concat([\n",
    "    df[['SOURCE_SUBREDDIT', 'Louvain_Community_Source']].rename(columns={'SOURCE_SUBREDDIT': 'subreddit', 'Louvain_Community_Source': 'Louvain_Community'}),\n",
    "    df[['TARGET_SUBREDDIT', 'Louvain_Community_Target']].rename(columns={'TARGET_SUBREDDIT': 'subreddit', 'Louvain_Community_Target': 'Louvain_Community'})\n",
    "]).drop_duplicates()\n",
    "\n",
    "# Merge Louvain community and embedding clusters\n",
    "merged = pd.merge(clustering_score, louvain_community_mapping, on='subreddit', how='inner')\n"
   ]
  },
  {
   "cell_type": "code",
   "execution_count": 19,
   "id": "24206ea3",
   "metadata": {},
   "outputs": [
    {
     "name": "stdout",
     "output_type": "stream",
     "text": [
      "Cluster             0   1  2   3  4  5\n",
      "Louvain_Community                     \n",
      "0                   0   3  0  31  0  4\n",
      "1                   0  11  0  33  0  4\n",
      "2                   0   0  0  19  9  2\n",
      "3                   2   0  0  52  2  0\n",
      "4                  59   0  0   1  0  0\n",
      "5                   0   0  9   3  0  0\n"
     ]
    }
   ],
   "source": [
    "contingency_table = pd.crosstab(merged['Louvain_Community'], merged['Cluster'])\n",
    "print(contingency_table)"
   ]
  },
  {
   "cell_type": "code",
   "execution_count": 20,
   "id": "681712a5",
   "metadata": {},
   "outputs": [
    {
     "name": "stdout",
     "output_type": "stream",
     "text": [
      "   Louvain_Community  Remapped_Cluster\n",
      "0                  0                 3\n",
      "1                  0                 3\n",
      "2                  1                 1\n",
      "3                  1                 1\n",
      "4                  1                 1\n"
     ]
    }
   ],
   "source": [
    "# Create a manual mapping dictionary\n",
    "manual_mapping = {\n",
    "    0: 3,  \n",
    "    1: 1,  \n",
    "    2: 4, \n",
    "    3: 5,  \n",
    "    4: 0, \n",
    "    5: 2   \n",
    "}\n",
    "\n",
    "# Apply the mapping to your Louvain labels\n",
    "merged['Remapped_Cluster'] = merged['Louvain_Community'].map(manual_mapping)\n",
    "\n",
    "# Validate the new mapping\n",
    "print(merged[['Louvain_Community', 'Remapped_Cluster']].head())"
   ]
  },
  {
   "cell_type": "code",
   "execution_count": 21,
   "id": "cd765c47",
   "metadata": {},
   "outputs": [
    {
     "data": {
      "image/png": "[encoded data removed]",
      "text/plain": [
       "<Figure size 640x480 with 2 Axes>"
      ]
     },
     "metadata": {},
     "output_type": "display_data"
    }
   ],
   "source": [
    "remapped_clusters = merged['Louvain_Community'].map(manual_mapping)\n",
    "contingency_table_remapped = pd.crosstab(remapped_clusters, merged['Cluster'])\n",
    "\n",
    "sns.heatmap(contingency_table_remapped, annot=True, fmt=\"d\", cmap=\"Blues\")\n",
    "plt.title(\"Louvain vs. SCORE+ Clustering\")\n",
    "plt.xlabel(\"SCORE+ Cluster\")\n",
    "plt.ylabel(\" Louvain Community\")\n",
    "plt.show()"
   ]
  },
  {
   "cell_type": "code",
   "execution_count": null,
   "id": "3ee692bd",
   "metadata": {},
   "outputs": [
    {
     "name": "stdout",
     "output_type": "stream",
     "text": [
      "['mensrightsmeta' 'mensrights' 'politicaldiscussion' 'politics'\n",
      " 'socialism' 'postnationalist' 'law' 'economy' 'politic' 'altnewz'\n",
      " 'agitation' 'worldpolitics' 'againstmensrights' 'badeconomics'\n",
      " 'progressive' 'metanarchism' 'whiterights' 'syriancivilwar'\n",
      " 'politicalmoderation' 'badpolitics' 'democrats' 'ukpolitics' 'ncpolitics'\n",
      " 'futuristparty' 'restorethefourth' 'shitrconservativesays'\n",
      " 'paleoconservative' 'canadapolitics' 'feminismformen' 'censorship'\n",
      " 'shitliberalssay' 'conservatives_r_us' 'socialists' 'ask_politics'\n",
      " 'anarchocommunism' 'occupywallstreet' 'politicalphilosophy'\n",
      " 'leftcommunism' 'neutralpolitics' 'socialistra' 'scotus'\n",
      " 'enoughsandersspam' 'chomsky' 'justiceporn' 'politicalfactchecking'\n",
      " 'moderatepolitics' 'inthenews' 'trump16' 'anarchy' 'gulag' 'civpolitics'\n",
      " 'shitguncontrollerssay' 'kasichforpresident' 'canadapolitic'\n",
      " 'socialanarchism' 'ndp' 'atheismplus' 'potuselection2016' 'obama'\n",
      " '2016_elections' 'europes' 'explainmydownvotes' 'trueprogressive'\n",
      " 'hillaryclinton' 'media_criticism' 'asklibertarians' 'leftypolitics'\n",
      " 'socialjusticeinaction' 'pure_trump' 'politicalhumor'\n",
      " 'asktrumpsupporters' 'kossacks_for_sanders' 'donaldtrump' 'jillstein'\n",
      " 'europeannationalism' 'enoughtrumpspam' 'samharris' 'uspolitics'\n",
      " 'mr_trump' 'pdx4trump' 'askhillarysupporters' 'donaldtrump2016'\n",
      " 'libertarians' 'catholicpolitics' 'killthosewhodisagree'\n",
      " 'political_revolution' 'uncensorednews' 'altright' 'unfilter'\n",
      " 'stillsandersforpres' 'enough_sanders_spam' 'politicalopinions'\n",
      " 'politicalrevolutionca' 'political_discussion' 'aprogressiveparty'\n",
      " 'electionreform' 'politicalrevolutionfl' 'shitleftistssay'\n",
      " '2016elections' 'slatestarcodex' 'abetterworldnews' 'neutralnews'\n",
      " 'communists' 'the_meltdown' 'politics1' 'idontlikerpolitics' 'calexit'\n",
      " 'mormonpolitics' 'thedavidpakmanshow' 'thenewcoldwar' 'impeach_trump'\n",
      " 'antitrumpalliance' 'justiceserved' 'trumpforprison' 'justicedemocrats'\n",
      " 'marchagainsttrump' 'onguardforthee' 'trumpnicknames' 'esist'\n",
      " 'socialjustice101' 'globalistshills' 'daverubin' 'neoliberal' 'holocaust'\n",
      " 'georgism']\n"
     ]
    }
   ],
   "source": [
    "diff_rows = merged[remapped_clusters != merged['Cluster']]\n",
    "differing_subreddits = diff_rows['subreddit'].unique()"
   ]
  },
  {
   "cell_type": "code",
   "execution_count": 23,
   "id": "bcb32f2b",
   "metadata": {},
   "outputs": [
    {
     "data": {
      "text/html": [
       "<div>\n",
       "<style scoped>\n",
       "    .dataframe tbody tr th:only-of-type {\n",
       "        vertical-align: middle;\n",
       "    }\n",
       "\n",
       "    .dataframe tbody tr th {\n",
       "        vertical-align: top;\n",
       "    }\n",
       "\n",
       "    .dataframe thead th {\n",
       "        text-align: right;\n",
       "    }\n",
       "</style>\n",
       "<table border=\"1\" class=\"dataframe\">\n",
       "  <thead>\n",
       "    <tr style=\"text-align: right;\">\n",
       "      <th></th>\n",
       "      <th>SCORE+ Cluster</th>\n",
       "      <th>Louvain Community</th>\n",
       "      <th>Subreddits</th>\n",
       "    </tr>\n",
       "  </thead>\n",
       "  <tbody>\n",
       "    <tr>\n",
       "      <th>0</th>\n",
       "      <td>0</td>\n",
       "      <td>3</td>\n",
       "      <td>[stillsandersforpres, politicalrevolutionca]</td>\n",
       "    </tr>\n",
       "    <tr>\n",
       "      <th>1</th>\n",
       "      <td>1</td>\n",
       "      <td>0</td>\n",
       "      <td>[thedavidpakmanshow, daverubin, georgism]</td>\n",
       "    </tr>\n",
       "    <tr>\n",
       "      <th>2</th>\n",
       "      <td>3</td>\n",
       "      <td>1</td>\n",
       "      <td>[mensrights, socialism, law, againstmensrights...</td>\n",
       "    </tr>\n",
       "    <tr>\n",
       "      <th>3</th>\n",
       "      <td>3</td>\n",
       "      <td>2</td>\n",
       "      <td>[politicaldiscussion, postnationalist, agitati...</td>\n",
       "    </tr>\n",
       "    <tr>\n",
       "      <th>4</th>\n",
       "      <td>3</td>\n",
       "      <td>3</td>\n",
       "      <td>[politics, economy, politic, altnewz, badecono...</td>\n",
       "    </tr>\n",
       "    <tr>\n",
       "      <th>5</th>\n",
       "      <td>3</td>\n",
       "      <td>4</td>\n",
       "      <td>[kossacks_for_sanders]</td>\n",
       "    </tr>\n",
       "    <tr>\n",
       "      <th>6</th>\n",
       "      <td>3</td>\n",
       "      <td>5</td>\n",
       "      <td>[ukpolitics, europes, europeannationalism]</td>\n",
       "    </tr>\n",
       "    <tr>\n",
       "      <th>7</th>\n",
       "      <td>4</td>\n",
       "      <td>3</td>\n",
       "      <td>[neutralnews, justiceserved]</td>\n",
       "    </tr>\n",
       "    <tr>\n",
       "      <th>8</th>\n",
       "      <td>5</td>\n",
       "      <td>0</td>\n",
       "      <td>[whiterights, shitrconservativesays, paleocons...</td>\n",
       "    </tr>\n",
       "    <tr>\n",
       "      <th>9</th>\n",
       "      <td>5</td>\n",
       "      <td>1</td>\n",
       "      <td>[mensrightsmeta, feminismformen, scotus, socia...</td>\n",
       "    </tr>\n",
       "    <tr>\n",
       "      <th>10</th>\n",
       "      <td>5</td>\n",
       "      <td>2</td>\n",
       "      <td>[restorethefourth, explainmydownvotes]</td>\n",
       "    </tr>\n",
       "  </tbody>\n",
       "</table>\n",
       "</div>"
      ],
      "text/plain": [
       "    SCORE+ Cluster  Louvain Community  \\\n",
       "0                0                  3   \n",
       "1                1                  0   \n",
       "2                3                  1   \n",
       "3                3                  2   \n",
       "4                3                  3   \n",
       "5                3                  4   \n",
       "6                3                  5   \n",
       "7                4                  3   \n",
       "8                5                  0   \n",
       "9                5                  1   \n",
       "10               5                  2   \n",
       "\n",
       "                                           Subreddits  \n",
       "0        [stillsandersforpres, politicalrevolutionca]  \n",
       "1           [thedavidpakmanshow, daverubin, georgism]  \n",
       "2   [mensrights, socialism, law, againstmensrights...  \n",
       "3   [politicaldiscussion, postnationalist, agitati...  \n",
       "4   [politics, economy, politic, altnewz, badecono...  \n",
       "5                              [kossacks_for_sanders]  \n",
       "6          [ukpolitics, europes, europeannationalism]  \n",
       "7                        [neutralnews, justiceserved]  \n",
       "8   [whiterights, shitrconservativesays, paleocons...  \n",
       "9   [mensrightsmeta, feminismformen, scotus, socia...  \n",
       "10             [restorethefourth, explainmydownvotes]  "
      ]
     },
     "execution_count": 23,
     "metadata": {},
     "output_type": "execute_result"
    }
   ],
   "source": [
    "summary_diff = diff_rows.groupby(['Cluster', 'Louvain_Community'])['subreddit'].apply(list).reset_index()\n",
    "summary_diff.columns = ['SCORE+ Cluster', 'Louvain Community', 'Subreddits']\n",
    "summary_diff"
   ]
  },
  {
   "cell_type": "code",
   "execution_count": null,
   "id": "1bc6f78e",
   "metadata": {},
   "outputs": [],
   "source": []
  }
 ],
 "metadata": {
  "kernelspec": {
   "display_name": "cs109b",
   "language": "python",
   "name": "python3"
  },
  "language_info": {
   "codemirror_mode": {
    "name": "ipython",
    "version": 3
   },
   "file_extension": ".py",
   "mimetype": "text/x-python",
   "name": "python",
   "nbconvert_exporter": "python",
   "pygments_lexer": "ipython3",
   "version": "3.11.7"
  }
 },
 "nbformat": 4,
 "nbformat_minor": 5
}
